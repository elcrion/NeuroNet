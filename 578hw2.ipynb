{
 "cells": [
  {
   "cell_type": "markdown",
   "metadata": {},
   "source": [
    "### Gleb Iakovlev, CSC 578 Homework2 "
   ]
  },
  {
   "cell_type": "markdown",
   "metadata": {},
   "source": [
    "### Import original source file "
   ]
  },
  {
   "cell_type": "code",
   "execution_count": 36,
   "metadata": {},
   "outputs": [
    {
     "name": "stdout",
     "output_type": "stream",
     "text": [
      "[Epoch 0] Training: MSE=0.26673128660052947, CrossEntropy=1.6169006088912665, LogLikelihood =0.4593083419698332, Correct= 1 / 1 Acc: 1.0\n",
      "[Epoch 0] Test: MSE=0.3244002758397572, CrossEntropy=1.855818621521176, LogLikelihood =0.5871219174966811, Correct= 0 / 1 Acc: 0.0\n"
     ]
    }
   ],
   "source": [
    "import NN578_network as network\n",
    "import numpy as np\n",
    "net4 = network.load_network(\"iris-423.dat.txt\")\n",
    "\n",
    "# Create two data instances on the fly\n",
    "inst1 = (np.array([5.7, 3, 4.2, 1.2]), np.array([0., 1., 0.]))\n",
    "x1 = np.reshape(inst1[0], (4, 1))\n",
    "y1 = np.reshape(inst1[1], (3, 1))\n",
    "sample1 = [(x1, y1)]\n",
    "inst2 = (np.array([4.8, 3.4, 1.6, 0.2]), np.array([1., 0., 0.]))\n",
    "x2 = np.reshape(inst2[0], (4, 1))\n",
    "y2 = np.reshape(inst2[1], (3, 1))\n",
    "sample2 = [(x2, y2)]\n",
    "\n",
    "# Call SGD with one instance for training and another for testing\n",
    "results1 = net4.SGD(sample1, 1, 1, 1.0,True, sample2)\n"
   ]
  },
  {
   "cell_type": "markdown",
   "metadata": {},
   "source": [
    "### 2b. Return SGD evaluation  history list "
   ]
  },
  {
   "cell_type": "code",
   "execution_count": 37,
   "metadata": {},
   "outputs": [
    {
     "name": "stdout",
     "output_type": "stream",
     "text": [
      "[[1, 1.0, 0.26673128660052947, 1.6169006088912665, 0.4593083419698332], [0, 0.0, 0.3244002758397572, 1.855818621521176, 0.5871219174966811]]\n"
     ]
    }
   ],
   "source": [
    "print(results1)"
   ]
  },
  {
   "cell_type": "code",
   "execution_count": 38,
   "metadata": {},
   "outputs": [
    {
     "name": "stdout",
     "output_type": "stream",
     "text": [
      "[[1, 1.0, 0.26673128660052947, 1.6169006088912665, 0.4593083419698332], []]\n"
     ]
    }
   ],
   "source": [
    "net4 = network.load_network(\"iris-423.dat.txt\")\n",
    "results2 = net4.SGD(sample1, 1, 1, 1.0,False)\n",
    "print (results2)"
   ]
  },
  {
   "cell_type": "markdown",
   "metadata": {},
   "source": [
    "### 2c . Early stopping"
   ]
  },
  {
   "cell_type": "code",
   "execution_count": 39,
   "metadata": {},
   "outputs": [],
   "source": [
    "# Function to load the iris train-test (separate) data files\n",
    "def my_load_csv(fname, no_trainfeatures, no_testfeatures):\n",
    "    ret = np.genfromtxt(fname, delimiter=',')\n",
    "    data = np.array([(entry[:no_trainfeatures],entry[no_trainfeatures:]) for entry in ret])\n",
    "    temp_inputs = [np.reshape(x, (no_trainfeatures, 1)) for x in data[:,0]]\n",
    "    temp_results = [np.reshape(y, (no_testfeatures, 1)) for y in data[:,1]]\n",
    "    dataset = list(zip(temp_inputs, temp_results))\n",
    "    return dataset\n",
    "\n",
    "# Call the function to load the data\n",
    "iris_data = my_load_csv('iris.csv', 4, 3)"
   ]
  },
  {
   "cell_type": "code",
   "execution_count": 40,
   "metadata": {},
   "outputs": [
    {
     "name": "stdout",
     "output_type": "stream",
     "text": [
      "[Epoch 6] Training: MSE=0.29530520164482355, CrossEntropy=1.733591651577271, LogLikelihood =0.6235379306734548, Correct= 100 / 150 Acc: 0.6666666666666666\n"
     ]
    }
   ],
   "source": [
    "# Reload the network\n",
    "net2 = network.load_network(\"iris-423.dat.txt\")\n",
    "# Set the termination percentage\n",
    "net2.termpercent = 0.6\n",
    "# Train the network (for max of 100 epochs, minibatch_size=20, eta=1.0)\n",
    "results = net2.SGD(iris_data, 100, 20, 1.0,False)"
   ]
  },
  {
   "cell_type": "code",
   "execution_count": 41,
   "metadata": {},
   "outputs": [
    {
     "name": "stdout",
     "output_type": "stream",
     "text": [
      "[Epoch 86] Training: MSE=0.13644322390031177, CrossEntropy=0.8780155658563505, LogLikelihood =0.3477688661909535, Correct= 121 / 150 Acc: 0.8066666666666666\n"
     ]
    }
   ],
   "source": [
    "# Reload the network\n",
    "net2 = network.load_network(\"iris-423.dat.txt\")\n",
    "# Set the termination percentage\n",
    "net2.termpercent = 0.8\n",
    "# Train the network (for max of 100 epochs, minibatch_size=20, eta=1.0)\n",
    "results = net2.SGD(iris_data, 100, 20, 1.0,False)"
   ]
  },
  {
   "cell_type": "markdown",
   "metadata": {},
   "source": [
    "### 3. Deeper network "
   ]
  },
  {
   "cell_type": "code",
   "execution_count": 42,
   "metadata": {},
   "outputs": [
    {
     "name": "stdout",
     "output_type": "stream",
     "text": [
      "[Epoch 33] Training: MSE=0.2988404836604327, CrossEntropy=1.7217813065464929, LogLikelihood =0.28740732324328105, Correct= 99 / 150 Acc: 0.66\n"
     ]
    }
   ],
   "source": [
    "# Reload the network\n",
    "net2 = network.load_network(\"iris4-20-7-3.dat.txt\")\n",
    "# Set the termination percentage\n",
    "net2.termpercent = 0.6\n",
    "# Set network layers sizes \n",
    "net2.sizes = [4,20,7,3]\n",
    "# Train the network (for max of 100 epochs, minibatch_size=20, eta=1.0)\n",
    "results = net2.SGD(iris_data, 100, 20, 1.0,False)"
   ]
  },
  {
   "cell_type": "code",
   "execution_count": 43,
   "metadata": {},
   "outputs": [
    {
     "name": "stdout",
     "output_type": "stream",
     "text": [
      "[Epoch 125] Training: MSE=0.13069537291927866, CrossEntropy=0.8151871491068344, LogLikelihood =0.10405895855963886, Correct= 120 / 150 Acc: 0.8\n"
     ]
    }
   ],
   "source": [
    "# Reload the network\n",
    "net2 = network.load_network(\"iris4-20-7-3.dat.txt\")\n",
    "# Set the termination percentage\n",
    "net2.termpercent = 0.8\n",
    "# Set network layers sizes \n",
    "net2.sizes = [4,20,7,3]\n",
    "# Train the network (for max of 130 epochs, minibatch_size=20, eta=1.0)\n",
    "results = net2.SGD(iris_data, 130, 20, 1.0,False)"
   ]
  },
  {
   "cell_type": "markdown",
   "metadata": {},
   "source": [
    "## Visualizing network learning "
   ]
  },
  {
   "cell_type": "markdown",
   "metadata": {},
   "source": [
    "#### Split into testing and training "
   ]
  },
  {
   "cell_type": "code",
   "execution_count": 44,
   "metadata": {},
   "outputs": [],
   "source": [
    "from numpy.random import RandomState\n",
    "import pandas as pd\n",
    "df = pd.read_csv('iris.csv')\n",
    "rng = RandomState()\n",
    "train = df.sample(frac=0.7, random_state=rng)\n",
    "test = df.loc[~df.index.isin(train.index)]\n",
    "test = test.iloc[1:]\n",
    "train = train.iloc[1:]\n",
    "train.to_csv('iris_train.csv',index=False)\n",
    "test.to_csv('iris_test.csv',index=False)"
   ]
  },
  {
   "cell_type": "code",
   "execution_count": 45,
   "metadata": {},
   "outputs": [],
   "source": [
    "# Reload the network\n",
    "net2 = network.load_network(\"iris4-20-7-3.dat.txt\")\n",
    "# Set the termination percentage\n",
    "# Set network layers sizes \n",
    "net2.sizes = [4,30,7,3]\n",
    "iris_train = my_load_csv('iris_train.csv', 4, 3)\n",
    "iris_test = my_load_csv('iris_test.csv', 4, 3)\n",
    "\n",
    "# Train the network \n",
    "results = net2.SGD(iris_train, 115, 25, 1.225,False,iris_test)"
   ]
  },
  {
   "cell_type": "code",
   "execution_count": 46,
   "metadata": {},
   "outputs": [],
   "source": [
    "data_train = [x for x in results if x[0] == 1 ]"
   ]
  },
  {
   "cell_type": "code",
   "execution_count": 47,
   "metadata": {},
   "outputs": [],
   "source": [
    "data_test = [x for x in results if x[0] == 0 ]"
   ]
  },
  {
   "cell_type": "markdown",
   "metadata": {},
   "source": [
    "### Create plots"
   ]
  },
  {
   "cell_type": "code",
   "execution_count": 48,
   "metadata": {},
   "outputs": [
    {
     "data": {
      "image/png": "[encoded data removed]",
      "text/plain": [
       "<Figure size 432x288 with 1 Axes>"
      ]
     },
     "metadata": {
      "needs_background": "light"
     },
     "output_type": "display_data"
    }
   ],
   "source": [
    "import matplotlib.pyplot as plt\n",
    "mat_train = np.vstack(data_train)\n",
    "transposed_train =  mat_train.T\n",
    "\n",
    "fig = plt.figure()\n",
    "ax = plt.subplot(111)\n",
    "ax.plot(transposed_train[2],label = 'MSE')\n",
    "ax.plot(transposed_train[3],label = 'CrossEntropy' )\n",
    "ax.plot(transposed_train[4],label = 'LogLikelihood')\n",
    "plt.title('Cost functions performance. Train data')\n",
    "plt.xlabel('Epoch')\n",
    "plt.ylabel('Cost')\n",
    "ax.legend()\n",
    "plt.show()"
   ]
  },
  {
   "cell_type": "markdown",
   "metadata": {},
   "source": [
    "### Check test data "
   ]
  },
  {
   "cell_type": "code",
   "execution_count": 51,
   "metadata": {},
   "outputs": [
    {
     "data": {
      "image/png": "[encoded data removed]",
      "text/plain": [
       "<Figure size 432x288 with 1 Axes>"
      ]
     },
     "metadata": {
      "needs_background": "light"
     },
     "output_type": "display_data"
    }
   ],
   "source": [
    "mat_test = np.vstack(data_test)\n",
    "transposed_test =  mat_test.T\n",
    "fig = plt.figure()\n",
    "ax = plt.subplot(111)\n",
    "ax.plot(transposed_train[3],label = 'CrossEntropy train')\n",
    "ax.plot(transposed_test[3],label = 'CrossEntropy test')\n",
    "plt.title('Cost functions performance MSE. Train data vs Test ')\n",
    "plt.xlabel('Epoch')\n",
    "plt.ylabel('Cost')\n",
    "ax.legend()\n",
    "plt.show()\n"
   ]
  },
  {
   "cell_type": "markdown",
   "metadata": {},
   "source": [
    "### Train vs Test accuracy"
   ]
  },
  {
   "cell_type": "code",
   "execution_count": 50,
   "metadata": {},
   "outputs": [
    {
     "data": {
      "image/png": "[encoded data removed]",
      "text/plain": [
       "<Figure size 432x288 with 1 Axes>"
      ]
     },
     "metadata": {
      "needs_background": "light"
     },
     "output_type": "display_data"
    }
   ],
   "source": [
    "mat_test = np.vstack(data_test)\n",
    "transposed_test =  mat_test.T\n",
    "fig = plt.figure()\n",
    "ax = plt.subplot(111)\n",
    "ax.plot(transposed_train[1],label = 'Train accuracy')\n",
    "ax.plot(transposed_test[1],label = 'Test accuracy')\n",
    "plt.title('Iris Accuracy. Train data vs Test ')\n",
    "plt.xlabel('Epoch')\n",
    "plt.ylabel('Accuracy')\n",
    "ax.legend()\n",
    "plt.show()"
   ]
  }
 ],
 "metadata": {
  "kernelspec": {
   "display_name": "Python 3",
   "language": "python",
   "name": "python3"
  },
  "language_info": {
   "codemirror_mode": {
    "name": "ipython",
    "version": 3
   },
   "file_extension": ".py",
   "mimetype": "text/x-python",
   "name": "python",
   "nbconvert_exporter": "python",
   "pygments_lexer": "ipython3",
   "version": "3.7.3"
  }
 },
 "nbformat": 4,
 "nbformat_minor": 2
}
